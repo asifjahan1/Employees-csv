{
  "nbformat": 4,
  "nbformat_minor": 0,
  "metadata": {
    "colab": {
      "provenance": [],
      "authorship_tag": "ABX9TyMKzuKeoVuulWG5M09B4eSg",
      "include_colab_link": true
    },
    "kernelspec": {
      "name": "python3",
      "display_name": "Python 3"
    },
    "language_info": {
      "name": "python"
    }
  },
  "cells": [
    {
      "cell_type": "markdown",
      "metadata": {
        "id": "view-in-github",
        "colab_type": "text"
      },
      "source": [
        "<a href=\"https://colab.research.google.com/github/asifjahan1/Employees-csv/blob/main/Lab_Assignment.ipynb\" target=\"_parent\"><img src=\"https://colab.research.google.com/assets/colab-badge.svg\" alt=\"Open In Colab\"/></a>"
      ]
    },
    {
      "cell_type": "code",
      "metadata": {
        "id": "zRiyWRtncjHN"
      },
      "source": [
        "import numpy as np\n",
        "import pandas as pd\n",
        "import matplotlib.pyplot as plt\n",
        "import sklearn\n",
        "from sklearn.datasets import load_boston"
      ],
      "execution_count": null,
      "outputs": []
    },
    {
      "cell_type": "code",
      "metadata": {
        "id": "Ng5Cy6WbwZrS"
      },
      "source": [
        "data = pd.read_csv(\"employees.csv\")"
      ],
      "execution_count": null,
      "outputs": []
    },
    {
      "cell_type": "code",
      "metadata": {
        "id": "QccCCtOCwZuS"
      },
      "source": [
        "bool_series = pd.isnull(data[\"Gender\"])"
      ],
      "execution_count": null,
      "outputs": []
    },
    {
      "cell_type": "code",
      "metadata": {
        "colab": {
          "base_uri": "https://localhost:8080/",
          "height": 402
        },
        "id": "M_gwXkd9wZw6",
        "outputId": "d77c63c4-189a-4af3-f1de-0dfee94adf69"
      },
      "source": [
        "data[bool_series]"
      ],
      "execution_count": null,
      "outputs": [
        {
          "output_type": "execute_result",
          "data": {
            "text/html": [
              "<div>\n",
              "<style scoped>\n",
              "    .dataframe tbody tr th:only-of-type {\n",
              "        vertical-align: middle;\n",
              "    }\n",
              "\n",
              "    .dataframe tbody tr th {\n",
              "        vertical-align: top;\n",
              "    }\n",
              "\n",
              "    .dataframe thead th {\n",
              "        text-align: right;\n",
              "    }\n",
              "</style>\n",
              "<table border=\"1\" class=\"dataframe\">\n",
              "  <thead>\n",
              "    <tr style=\"text-align: right;\">\n",
              "      <th></th>\n",
              "      <th>First Name</th>\n",
              "      <th>Gender</th>\n",
              "      <th>Start Date</th>\n",
              "      <th>Last Login Time</th>\n",
              "      <th>Salary</th>\n",
              "      <th>Bonus %</th>\n",
              "      <th>Senior Management</th>\n",
              "      <th>Team</th>\n",
              "    </tr>\n",
              "  </thead>\n",
              "  <tbody>\n",
              "    <tr>\n",
              "      <th>20</th>\n",
              "      <td>Lois</td>\n",
              "      <td>NaN</td>\n",
              "      <td>4/22/1995</td>\n",
              "      <td>7:18 PM</td>\n",
              "      <td>64714</td>\n",
              "      <td>4.934</td>\n",
              "      <td>True</td>\n",
              "      <td>Legal</td>\n",
              "    </tr>\n",
              "    <tr>\n",
              "      <th>22</th>\n",
              "      <td>Joshua</td>\n",
              "      <td>NaN</td>\n",
              "      <td>3/8/2012</td>\n",
              "      <td>1:58 AM</td>\n",
              "      <td>90816</td>\n",
              "      <td>18.816</td>\n",
              "      <td>True</td>\n",
              "      <td>Client Services</td>\n",
              "    </tr>\n",
              "    <tr>\n",
              "      <th>27</th>\n",
              "      <td>Scott</td>\n",
              "      <td>NaN</td>\n",
              "      <td>7/11/1991</td>\n",
              "      <td>6:58 PM</td>\n",
              "      <td>122367</td>\n",
              "      <td>5.218</td>\n",
              "      <td>False</td>\n",
              "      <td>Legal</td>\n",
              "    </tr>\n",
              "    <tr>\n",
              "      <th>31</th>\n",
              "      <td>Joyce</td>\n",
              "      <td>NaN</td>\n",
              "      <td>2/20/2005</td>\n",
              "      <td>2:40 PM</td>\n",
              "      <td>88657</td>\n",
              "      <td>12.752</td>\n",
              "      <td>False</td>\n",
              "      <td>Product</td>\n",
              "    </tr>\n",
              "    <tr>\n",
              "      <th>41</th>\n",
              "      <td>Christine</td>\n",
              "      <td>NaN</td>\n",
              "      <td>6/28/2015</td>\n",
              "      <td>1:08 AM</td>\n",
              "      <td>66582</td>\n",
              "      <td>11.308</td>\n",
              "      <td>True</td>\n",
              "      <td>Business Development</td>\n",
              "    </tr>\n",
              "    <tr>\n",
              "      <th>...</th>\n",
              "      <td>...</td>\n",
              "      <td>...</td>\n",
              "      <td>...</td>\n",
              "      <td>...</td>\n",
              "      <td>...</td>\n",
              "      <td>...</td>\n",
              "      <td>...</td>\n",
              "      <td>...</td>\n",
              "    </tr>\n",
              "    <tr>\n",
              "      <th>961</th>\n",
              "      <td>Antonio</td>\n",
              "      <td>NaN</td>\n",
              "      <td>6/18/1989</td>\n",
              "      <td>9:37 PM</td>\n",
              "      <td>103050</td>\n",
              "      <td>3.050</td>\n",
              "      <td>False</td>\n",
              "      <td>Legal</td>\n",
              "    </tr>\n",
              "    <tr>\n",
              "      <th>972</th>\n",
              "      <td>Victor</td>\n",
              "      <td>NaN</td>\n",
              "      <td>7/28/2006</td>\n",
              "      <td>2:49 PM</td>\n",
              "      <td>76381</td>\n",
              "      <td>11.159</td>\n",
              "      <td>True</td>\n",
              "      <td>Sales</td>\n",
              "    </tr>\n",
              "    <tr>\n",
              "      <th>985</th>\n",
              "      <td>Stephen</td>\n",
              "      <td>NaN</td>\n",
              "      <td>7/10/1983</td>\n",
              "      <td>8:10 PM</td>\n",
              "      <td>85668</td>\n",
              "      <td>1.909</td>\n",
              "      <td>False</td>\n",
              "      <td>Legal</td>\n",
              "    </tr>\n",
              "    <tr>\n",
              "      <th>989</th>\n",
              "      <td>Justin</td>\n",
              "      <td>NaN</td>\n",
              "      <td>2/10/1991</td>\n",
              "      <td>4:58 PM</td>\n",
              "      <td>38344</td>\n",
              "      <td>3.794</td>\n",
              "      <td>False</td>\n",
              "      <td>Legal</td>\n",
              "    </tr>\n",
              "    <tr>\n",
              "      <th>995</th>\n",
              "      <td>Henry</td>\n",
              "      <td>NaN</td>\n",
              "      <td>11/23/2014</td>\n",
              "      <td>6:09 AM</td>\n",
              "      <td>132483</td>\n",
              "      <td>16.655</td>\n",
              "      <td>False</td>\n",
              "      <td>Distribution</td>\n",
              "    </tr>\n",
              "  </tbody>\n",
              "</table>\n",
              "<p>145 rows × 8 columns</p>\n",
              "</div>"
            ],
            "text/plain": [
              "    First Name Gender  ... Senior Management                  Team\n",
              "20        Lois    NaN  ...              True                 Legal\n",
              "22      Joshua    NaN  ...              True       Client Services\n",
              "27       Scott    NaN  ...             False                 Legal\n",
              "31       Joyce    NaN  ...             False               Product\n",
              "41   Christine    NaN  ...              True  Business Development\n",
              "..         ...    ...  ...               ...                   ...\n",
              "961    Antonio    NaN  ...             False                 Legal\n",
              "972     Victor    NaN  ...              True                 Sales\n",
              "985    Stephen    NaN  ...             False                 Legal\n",
              "989     Justin    NaN  ...             False                 Legal\n",
              "995      Henry    NaN  ...             False          Distribution\n",
              "\n",
              "[145 rows x 8 columns]"
            ]
          },
          "metadata": {
            "tags": []
          },
          "execution_count": 4
        }
      ]
    },
    {
      "cell_type": "code",
      "metadata": {
        "colab": {
          "base_uri": "https://localhost:8080/",
          "height": 402
        },
        "id": "m5z39ifiwZzn",
        "outputId": "0db1098f-8a60-42a8-9a28-47b4271b2e05"
      },
      "source": [
        "# Answer to the question No. 1\n",
        "data.replace(to_replace = np.nan, value = -99)"
      ],
      "execution_count": null,
      "outputs": [
        {
          "output_type": "execute_result",
          "data": {
            "text/html": [
              "<div>\n",
              "<style scoped>\n",
              "    .dataframe tbody tr th:only-of-type {\n",
              "        vertical-align: middle;\n",
              "    }\n",
              "\n",
              "    .dataframe tbody tr th {\n",
              "        vertical-align: top;\n",
              "    }\n",
              "\n",
              "    .dataframe thead th {\n",
              "        text-align: right;\n",
              "    }\n",
              "</style>\n",
              "<table border=\"1\" class=\"dataframe\">\n",
              "  <thead>\n",
              "    <tr style=\"text-align: right;\">\n",
              "      <th></th>\n",
              "      <th>First Name</th>\n",
              "      <th>Gender</th>\n",
              "      <th>Start Date</th>\n",
              "      <th>Last Login Time</th>\n",
              "      <th>Salary</th>\n",
              "      <th>Bonus %</th>\n",
              "      <th>Senior Management</th>\n",
              "      <th>Team</th>\n",
              "    </tr>\n",
              "  </thead>\n",
              "  <tbody>\n",
              "    <tr>\n",
              "      <th>0</th>\n",
              "      <td>Douglas</td>\n",
              "      <td>Male</td>\n",
              "      <td>8/6/1993</td>\n",
              "      <td>12:42 PM</td>\n",
              "      <td>97308</td>\n",
              "      <td>6.945</td>\n",
              "      <td>True</td>\n",
              "      <td>Marketing</td>\n",
              "    </tr>\n",
              "    <tr>\n",
              "      <th>1</th>\n",
              "      <td>Thomas</td>\n",
              "      <td>Male</td>\n",
              "      <td>3/31/1996</td>\n",
              "      <td>6:53 AM</td>\n",
              "      <td>61933</td>\n",
              "      <td>4.170</td>\n",
              "      <td>True</td>\n",
              "      <td>-99</td>\n",
              "    </tr>\n",
              "    <tr>\n",
              "      <th>2</th>\n",
              "      <td>Maria</td>\n",
              "      <td>Female</td>\n",
              "      <td>4/23/1993</td>\n",
              "      <td>11:17 AM</td>\n",
              "      <td>130590</td>\n",
              "      <td>11.858</td>\n",
              "      <td>False</td>\n",
              "      <td>Finance</td>\n",
              "    </tr>\n",
              "    <tr>\n",
              "      <th>3</th>\n",
              "      <td>Jerry</td>\n",
              "      <td>Male</td>\n",
              "      <td>3/4/2005</td>\n",
              "      <td>1:00 PM</td>\n",
              "      <td>138705</td>\n",
              "      <td>9.340</td>\n",
              "      <td>True</td>\n",
              "      <td>Finance</td>\n",
              "    </tr>\n",
              "    <tr>\n",
              "      <th>4</th>\n",
              "      <td>Larry</td>\n",
              "      <td>Male</td>\n",
              "      <td>1/24/1998</td>\n",
              "      <td>4:47 PM</td>\n",
              "      <td>101004</td>\n",
              "      <td>1.389</td>\n",
              "      <td>True</td>\n",
              "      <td>Client Services</td>\n",
              "    </tr>\n",
              "    <tr>\n",
              "      <th>...</th>\n",
              "      <td>...</td>\n",
              "      <td>...</td>\n",
              "      <td>...</td>\n",
              "      <td>...</td>\n",
              "      <td>...</td>\n",
              "      <td>...</td>\n",
              "      <td>...</td>\n",
              "      <td>...</td>\n",
              "    </tr>\n",
              "    <tr>\n",
              "      <th>995</th>\n",
              "      <td>Henry</td>\n",
              "      <td>-99</td>\n",
              "      <td>11/23/2014</td>\n",
              "      <td>6:09 AM</td>\n",
              "      <td>132483</td>\n",
              "      <td>16.655</td>\n",
              "      <td>False</td>\n",
              "      <td>Distribution</td>\n",
              "    </tr>\n",
              "    <tr>\n",
              "      <th>996</th>\n",
              "      <td>Phillip</td>\n",
              "      <td>Male</td>\n",
              "      <td>1/31/1984</td>\n",
              "      <td>6:30 AM</td>\n",
              "      <td>42392</td>\n",
              "      <td>19.675</td>\n",
              "      <td>False</td>\n",
              "      <td>Finance</td>\n",
              "    </tr>\n",
              "    <tr>\n",
              "      <th>997</th>\n",
              "      <td>Russell</td>\n",
              "      <td>Male</td>\n",
              "      <td>5/20/2013</td>\n",
              "      <td>12:39 PM</td>\n",
              "      <td>96914</td>\n",
              "      <td>1.421</td>\n",
              "      <td>False</td>\n",
              "      <td>Product</td>\n",
              "    </tr>\n",
              "    <tr>\n",
              "      <th>998</th>\n",
              "      <td>Larry</td>\n",
              "      <td>Male</td>\n",
              "      <td>4/20/2013</td>\n",
              "      <td>4:45 PM</td>\n",
              "      <td>60500</td>\n",
              "      <td>11.985</td>\n",
              "      <td>False</td>\n",
              "      <td>Business Development</td>\n",
              "    </tr>\n",
              "    <tr>\n",
              "      <th>999</th>\n",
              "      <td>Albert</td>\n",
              "      <td>Male</td>\n",
              "      <td>5/15/2012</td>\n",
              "      <td>6:24 PM</td>\n",
              "      <td>129949</td>\n",
              "      <td>10.169</td>\n",
              "      <td>True</td>\n",
              "      <td>Sales</td>\n",
              "    </tr>\n",
              "  </tbody>\n",
              "</table>\n",
              "<p>1000 rows × 8 columns</p>\n",
              "</div>"
            ],
            "text/plain": [
              "    First Name  Gender  ... Senior Management                  Team\n",
              "0      Douglas    Male  ...              True             Marketing\n",
              "1       Thomas    Male  ...              True                   -99\n",
              "2        Maria  Female  ...             False               Finance\n",
              "3        Jerry    Male  ...              True               Finance\n",
              "4        Larry    Male  ...              True       Client Services\n",
              "..         ...     ...  ...               ...                   ...\n",
              "995      Henry     -99  ...             False          Distribution\n",
              "996    Phillip    Male  ...             False               Finance\n",
              "997    Russell    Male  ...             False               Product\n",
              "998      Larry    Male  ...             False  Business Development\n",
              "999     Albert    Male  ...              True                 Sales\n",
              "\n",
              "[1000 rows x 8 columns]"
            ]
          },
          "metadata": {
            "tags": []
          },
          "execution_count": 5
        }
      ]
    },
    {
      "cell_type": "code",
      "metadata": {
        "colab": {
          "base_uri": "https://localhost:8080/",
          "height": 402
        },
        "id": "9Wxd6is0wZ2P",
        "outputId": "687f1f75-13d9-41fd-fc66-fed74e1c90fb"
      },
      "source": [
        "new_data = data.dropna(axis = 0, how ='any')\n",
        "new_data"
      ],
      "execution_count": null,
      "outputs": [
        {
          "output_type": "execute_result",
          "data": {
            "text/html": [
              "<div>\n",
              "<style scoped>\n",
              "    .dataframe tbody tr th:only-of-type {\n",
              "        vertical-align: middle;\n",
              "    }\n",
              "\n",
              "    .dataframe tbody tr th {\n",
              "        vertical-align: top;\n",
              "    }\n",
              "\n",
              "    .dataframe thead th {\n",
              "        text-align: right;\n",
              "    }\n",
              "</style>\n",
              "<table border=\"1\" class=\"dataframe\">\n",
              "  <thead>\n",
              "    <tr style=\"text-align: right;\">\n",
              "      <th></th>\n",
              "      <th>First Name</th>\n",
              "      <th>Gender</th>\n",
              "      <th>Start Date</th>\n",
              "      <th>Last Login Time</th>\n",
              "      <th>Salary</th>\n",
              "      <th>Bonus %</th>\n",
              "      <th>Senior Management</th>\n",
              "      <th>Team</th>\n",
              "    </tr>\n",
              "  </thead>\n",
              "  <tbody>\n",
              "    <tr>\n",
              "      <th>0</th>\n",
              "      <td>Douglas</td>\n",
              "      <td>Male</td>\n",
              "      <td>8/6/1993</td>\n",
              "      <td>12:42 PM</td>\n",
              "      <td>97308</td>\n",
              "      <td>6.945</td>\n",
              "      <td>True</td>\n",
              "      <td>Marketing</td>\n",
              "    </tr>\n",
              "    <tr>\n",
              "      <th>2</th>\n",
              "      <td>Maria</td>\n",
              "      <td>Female</td>\n",
              "      <td>4/23/1993</td>\n",
              "      <td>11:17 AM</td>\n",
              "      <td>130590</td>\n",
              "      <td>11.858</td>\n",
              "      <td>False</td>\n",
              "      <td>Finance</td>\n",
              "    </tr>\n",
              "    <tr>\n",
              "      <th>3</th>\n",
              "      <td>Jerry</td>\n",
              "      <td>Male</td>\n",
              "      <td>3/4/2005</td>\n",
              "      <td>1:00 PM</td>\n",
              "      <td>138705</td>\n",
              "      <td>9.340</td>\n",
              "      <td>True</td>\n",
              "      <td>Finance</td>\n",
              "    </tr>\n",
              "    <tr>\n",
              "      <th>4</th>\n",
              "      <td>Larry</td>\n",
              "      <td>Male</td>\n",
              "      <td>1/24/1998</td>\n",
              "      <td>4:47 PM</td>\n",
              "      <td>101004</td>\n",
              "      <td>1.389</td>\n",
              "      <td>True</td>\n",
              "      <td>Client Services</td>\n",
              "    </tr>\n",
              "    <tr>\n",
              "      <th>5</th>\n",
              "      <td>Dennis</td>\n",
              "      <td>Male</td>\n",
              "      <td>4/18/1987</td>\n",
              "      <td>1:35 AM</td>\n",
              "      <td>115163</td>\n",
              "      <td>10.125</td>\n",
              "      <td>False</td>\n",
              "      <td>Legal</td>\n",
              "    </tr>\n",
              "    <tr>\n",
              "      <th>...</th>\n",
              "      <td>...</td>\n",
              "      <td>...</td>\n",
              "      <td>...</td>\n",
              "      <td>...</td>\n",
              "      <td>...</td>\n",
              "      <td>...</td>\n",
              "      <td>...</td>\n",
              "      <td>...</td>\n",
              "    </tr>\n",
              "    <tr>\n",
              "      <th>994</th>\n",
              "      <td>George</td>\n",
              "      <td>Male</td>\n",
              "      <td>6/21/2013</td>\n",
              "      <td>5:47 PM</td>\n",
              "      <td>98874</td>\n",
              "      <td>4.479</td>\n",
              "      <td>True</td>\n",
              "      <td>Marketing</td>\n",
              "    </tr>\n",
              "    <tr>\n",
              "      <th>996</th>\n",
              "      <td>Phillip</td>\n",
              "      <td>Male</td>\n",
              "      <td>1/31/1984</td>\n",
              "      <td>6:30 AM</td>\n",
              "      <td>42392</td>\n",
              "      <td>19.675</td>\n",
              "      <td>False</td>\n",
              "      <td>Finance</td>\n",
              "    </tr>\n",
              "    <tr>\n",
              "      <th>997</th>\n",
              "      <td>Russell</td>\n",
              "      <td>Male</td>\n",
              "      <td>5/20/2013</td>\n",
              "      <td>12:39 PM</td>\n",
              "      <td>96914</td>\n",
              "      <td>1.421</td>\n",
              "      <td>False</td>\n",
              "      <td>Product</td>\n",
              "    </tr>\n",
              "    <tr>\n",
              "      <th>998</th>\n",
              "      <td>Larry</td>\n",
              "      <td>Male</td>\n",
              "      <td>4/20/2013</td>\n",
              "      <td>4:45 PM</td>\n",
              "      <td>60500</td>\n",
              "      <td>11.985</td>\n",
              "      <td>False</td>\n",
              "      <td>Business Development</td>\n",
              "    </tr>\n",
              "    <tr>\n",
              "      <th>999</th>\n",
              "      <td>Albert</td>\n",
              "      <td>Male</td>\n",
              "      <td>5/15/2012</td>\n",
              "      <td>6:24 PM</td>\n",
              "      <td>129949</td>\n",
              "      <td>10.169</td>\n",
              "      <td>True</td>\n",
              "      <td>Sales</td>\n",
              "    </tr>\n",
              "  </tbody>\n",
              "</table>\n",
              "<p>764 rows × 8 columns</p>\n",
              "</div>"
            ],
            "text/plain": [
              "    First Name  Gender  ... Senior Management                  Team\n",
              "0      Douglas    Male  ...              True             Marketing\n",
              "2        Maria  Female  ...             False               Finance\n",
              "3        Jerry    Male  ...              True               Finance\n",
              "4        Larry    Male  ...              True       Client Services\n",
              "5       Dennis    Male  ...             False                 Legal\n",
              "..         ...     ...  ...               ...                   ...\n",
              "994     George    Male  ...              True             Marketing\n",
              "996    Phillip    Male  ...             False               Finance\n",
              "997    Russell    Male  ...             False               Product\n",
              "998      Larry    Male  ...             False  Business Development\n",
              "999     Albert    Male  ...              True                 Sales\n",
              "\n",
              "[764 rows x 8 columns]"
            ]
          },
          "metadata": {
            "tags": []
          },
          "execution_count": 6
        }
      ]
    },
    {
      "cell_type": "code",
      "metadata": {
        "id": "eyUHLBVMwZ5B"
      },
      "source": [
        "# Answer to the Question No. 2\n",
        "data.sort_values(\"First Name\", inplace = True)"
      ],
      "execution_count": null,
      "outputs": []
    },
    {
      "cell_type": "code",
      "metadata": {
        "id": "cn8wRQOXwZ7w"
      },
      "source": [
        "bool_series = data[\"First Name\"].duplicated(keep = False)"
      ],
      "execution_count": null,
      "outputs": []
    },
    {
      "cell_type": "code",
      "metadata": {
        "colab": {
          "base_uri": "https://localhost:8080/",
          "height": 195
        },
        "id": "MNrvZkcMwZ-Y",
        "outputId": "95b0c798-0125-48a8-abec-ee154f09f0bc"
      },
      "source": [
        "data.head()"
      ],
      "execution_count": null,
      "outputs": [
        {
          "output_type": "execute_result",
          "data": {
            "text/html": [
              "<div>\n",
              "<style scoped>\n",
              "    .dataframe tbody tr th:only-of-type {\n",
              "        vertical-align: middle;\n",
              "    }\n",
              "\n",
              "    .dataframe tbody tr th {\n",
              "        vertical-align: top;\n",
              "    }\n",
              "\n",
              "    .dataframe thead th {\n",
              "        text-align: right;\n",
              "    }\n",
              "</style>\n",
              "<table border=\"1\" class=\"dataframe\">\n",
              "  <thead>\n",
              "    <tr style=\"text-align: right;\">\n",
              "      <th></th>\n",
              "      <th>First Name</th>\n",
              "      <th>Gender</th>\n",
              "      <th>Start Date</th>\n",
              "      <th>Last Login Time</th>\n",
              "      <th>Salary</th>\n",
              "      <th>Bonus %</th>\n",
              "      <th>Senior Management</th>\n",
              "      <th>Team</th>\n",
              "    </tr>\n",
              "  </thead>\n",
              "  <tbody>\n",
              "    <tr>\n",
              "      <th>101</th>\n",
              "      <td>Aaron</td>\n",
              "      <td>Male</td>\n",
              "      <td>2/17/2012</td>\n",
              "      <td>10:20 AM</td>\n",
              "      <td>61602</td>\n",
              "      <td>11.849</td>\n",
              "      <td>True</td>\n",
              "      <td>Marketing</td>\n",
              "    </tr>\n",
              "    <tr>\n",
              "      <th>327</th>\n",
              "      <td>Aaron</td>\n",
              "      <td>Male</td>\n",
              "      <td>1/29/1994</td>\n",
              "      <td>6:48 PM</td>\n",
              "      <td>58755</td>\n",
              "      <td>5.097</td>\n",
              "      <td>True</td>\n",
              "      <td>Marketing</td>\n",
              "    </tr>\n",
              "    <tr>\n",
              "      <th>440</th>\n",
              "      <td>Aaron</td>\n",
              "      <td>Male</td>\n",
              "      <td>7/22/1990</td>\n",
              "      <td>2:53 PM</td>\n",
              "      <td>52119</td>\n",
              "      <td>11.343</td>\n",
              "      <td>True</td>\n",
              "      <td>Client Services</td>\n",
              "    </tr>\n",
              "    <tr>\n",
              "      <th>937</th>\n",
              "      <td>Aaron</td>\n",
              "      <td>NaN</td>\n",
              "      <td>1/22/1986</td>\n",
              "      <td>7:39 PM</td>\n",
              "      <td>63126</td>\n",
              "      <td>18.424</td>\n",
              "      <td>False</td>\n",
              "      <td>Client Services</td>\n",
              "    </tr>\n",
              "    <tr>\n",
              "      <th>137</th>\n",
              "      <td>Adam</td>\n",
              "      <td>Male</td>\n",
              "      <td>5/21/2011</td>\n",
              "      <td>1:45 AM</td>\n",
              "      <td>95327</td>\n",
              "      <td>15.120</td>\n",
              "      <td>False</td>\n",
              "      <td>Distribution</td>\n",
              "    </tr>\n",
              "  </tbody>\n",
              "</table>\n",
              "</div>"
            ],
            "text/plain": [
              "    First Name Gender Start Date  ... Bonus %  Senior Management             Team\n",
              "101      Aaron   Male  2/17/2012  ...  11.849               True        Marketing\n",
              "327      Aaron   Male  1/29/1994  ...   5.097               True        Marketing\n",
              "440      Aaron   Male  7/22/1990  ...  11.343               True  Client Services\n",
              "937      Aaron    NaN  1/22/1986  ...  18.424              False  Client Services\n",
              "137       Adam   Male  5/21/2011  ...  15.120              False     Distribution\n",
              "\n",
              "[5 rows x 8 columns]"
            ]
          },
          "metadata": {
            "tags": []
          },
          "execution_count": 9
        }
      ]
    },
    {
      "cell_type": "code",
      "metadata": {
        "colab": {
          "base_uri": "https://localhost:8080/",
          "height": 402
        },
        "id": "oqr_CyklwaK8",
        "outputId": "83964235-1129-48ee-a83b-391063701c99"
      },
      "source": [
        "data[bool_series]"
      ],
      "execution_count": null,
      "outputs": [
        {
          "output_type": "execute_result",
          "data": {
            "text/html": [
              "<div>\n",
              "<style scoped>\n",
              "    .dataframe tbody tr th:only-of-type {\n",
              "        vertical-align: middle;\n",
              "    }\n",
              "\n",
              "    .dataframe tbody tr th {\n",
              "        vertical-align: top;\n",
              "    }\n",
              "\n",
              "    .dataframe thead th {\n",
              "        text-align: right;\n",
              "    }\n",
              "</style>\n",
              "<table border=\"1\" class=\"dataframe\">\n",
              "  <thead>\n",
              "    <tr style=\"text-align: right;\">\n",
              "      <th></th>\n",
              "      <th>First Name</th>\n",
              "      <th>Gender</th>\n",
              "      <th>Start Date</th>\n",
              "      <th>Last Login Time</th>\n",
              "      <th>Salary</th>\n",
              "      <th>Bonus %</th>\n",
              "      <th>Senior Management</th>\n",
              "      <th>Team</th>\n",
              "    </tr>\n",
              "  </thead>\n",
              "  <tbody>\n",
              "    <tr>\n",
              "      <th>101</th>\n",
              "      <td>Aaron</td>\n",
              "      <td>Male</td>\n",
              "      <td>2/17/2012</td>\n",
              "      <td>10:20 AM</td>\n",
              "      <td>61602</td>\n",
              "      <td>11.849</td>\n",
              "      <td>True</td>\n",
              "      <td>Marketing</td>\n",
              "    </tr>\n",
              "    <tr>\n",
              "      <th>327</th>\n",
              "      <td>Aaron</td>\n",
              "      <td>Male</td>\n",
              "      <td>1/29/1994</td>\n",
              "      <td>6:48 PM</td>\n",
              "      <td>58755</td>\n",
              "      <td>5.097</td>\n",
              "      <td>True</td>\n",
              "      <td>Marketing</td>\n",
              "    </tr>\n",
              "    <tr>\n",
              "      <th>440</th>\n",
              "      <td>Aaron</td>\n",
              "      <td>Male</td>\n",
              "      <td>7/22/1990</td>\n",
              "      <td>2:53 PM</td>\n",
              "      <td>52119</td>\n",
              "      <td>11.343</td>\n",
              "      <td>True</td>\n",
              "      <td>Client Services</td>\n",
              "    </tr>\n",
              "    <tr>\n",
              "      <th>937</th>\n",
              "      <td>Aaron</td>\n",
              "      <td>NaN</td>\n",
              "      <td>1/22/1986</td>\n",
              "      <td>7:39 PM</td>\n",
              "      <td>63126</td>\n",
              "      <td>18.424</td>\n",
              "      <td>False</td>\n",
              "      <td>Client Services</td>\n",
              "    </tr>\n",
              "    <tr>\n",
              "      <th>137</th>\n",
              "      <td>Adam</td>\n",
              "      <td>Male</td>\n",
              "      <td>5/21/2011</td>\n",
              "      <td>1:45 AM</td>\n",
              "      <td>95327</td>\n",
              "      <td>15.120</td>\n",
              "      <td>False</td>\n",
              "      <td>Distribution</td>\n",
              "    </tr>\n",
              "    <tr>\n",
              "      <th>...</th>\n",
              "      <td>...</td>\n",
              "      <td>...</td>\n",
              "      <td>...</td>\n",
              "      <td>...</td>\n",
              "      <td>...</td>\n",
              "      <td>...</td>\n",
              "      <td>...</td>\n",
              "      <td>...</td>\n",
              "    </tr>\n",
              "    <tr>\n",
              "      <th>902</th>\n",
              "      <td>NaN</td>\n",
              "      <td>Male</td>\n",
              "      <td>5/23/2001</td>\n",
              "      <td>7:52 PM</td>\n",
              "      <td>103877</td>\n",
              "      <td>6.322</td>\n",
              "      <td>NaN</td>\n",
              "      <td>Distribution</td>\n",
              "    </tr>\n",
              "    <tr>\n",
              "      <th>925</th>\n",
              "      <td>NaN</td>\n",
              "      <td>Female</td>\n",
              "      <td>8/23/2000</td>\n",
              "      <td>4:19 PM</td>\n",
              "      <td>95866</td>\n",
              "      <td>19.388</td>\n",
              "      <td>NaN</td>\n",
              "      <td>Sales</td>\n",
              "    </tr>\n",
              "    <tr>\n",
              "      <th>946</th>\n",
              "      <td>NaN</td>\n",
              "      <td>Female</td>\n",
              "      <td>9/15/1985</td>\n",
              "      <td>1:50 AM</td>\n",
              "      <td>133472</td>\n",
              "      <td>16.941</td>\n",
              "      <td>NaN</td>\n",
              "      <td>Distribution</td>\n",
              "    </tr>\n",
              "    <tr>\n",
              "      <th>947</th>\n",
              "      <td>NaN</td>\n",
              "      <td>Male</td>\n",
              "      <td>7/30/2012</td>\n",
              "      <td>3:07 PM</td>\n",
              "      <td>107351</td>\n",
              "      <td>5.329</td>\n",
              "      <td>NaN</td>\n",
              "      <td>Marketing</td>\n",
              "    </tr>\n",
              "    <tr>\n",
              "      <th>951</th>\n",
              "      <td>NaN</td>\n",
              "      <td>Female</td>\n",
              "      <td>9/14/2010</td>\n",
              "      <td>5:19 AM</td>\n",
              "      <td>143638</td>\n",
              "      <td>9.662</td>\n",
              "      <td>NaN</td>\n",
              "      <td>NaN</td>\n",
              "    </tr>\n",
              "  </tbody>\n",
              "</table>\n",
              "<p>991 rows × 8 columns</p>\n",
              "</div>"
            ],
            "text/plain": [
              "    First Name  Gender Start Date  ... Bonus %  Senior Management             Team\n",
              "101      Aaron    Male  2/17/2012  ...  11.849               True        Marketing\n",
              "327      Aaron    Male  1/29/1994  ...   5.097               True        Marketing\n",
              "440      Aaron    Male  7/22/1990  ...  11.343               True  Client Services\n",
              "937      Aaron     NaN  1/22/1986  ...  18.424              False  Client Services\n",
              "137       Adam    Male  5/21/2011  ...  15.120              False     Distribution\n",
              "..         ...     ...        ...  ...     ...                ...              ...\n",
              "902        NaN    Male  5/23/2001  ...   6.322                NaN     Distribution\n",
              "925        NaN  Female  8/23/2000  ...  19.388                NaN            Sales\n",
              "946        NaN  Female  9/15/1985  ...  16.941                NaN     Distribution\n",
              "947        NaN    Male  7/30/2012  ...   5.329                NaN        Marketing\n",
              "951        NaN  Female  9/14/2010  ...   9.662                NaN              NaN\n",
              "\n",
              "[991 rows x 8 columns]"
            ]
          },
          "metadata": {
            "tags": []
          },
          "execution_count": 10
        }
      ]
    },
    {
      "cell_type": "code",
      "metadata": {
        "colab": {
          "base_uri": "https://localhost:8080/"
        },
        "id": "1fg9CfIAwaNc",
        "outputId": "175b52bb-c6e0-4362-99d4-c66d45c6d8b5"
      },
      "source": [
        "bool_series"
      ],
      "execution_count": null,
      "outputs": [
        {
          "output_type": "execute_result",
          "data": {
            "text/plain": [
              "101    True\n",
              "327    True\n",
              "440    True\n",
              "937    True\n",
              "137    True\n",
              "       ... \n",
              "902    True\n",
              "925    True\n",
              "946    True\n",
              "947    True\n",
              "951    True\n",
              "Name: First Name, Length: 1000, dtype: bool"
            ]
          },
          "metadata": {
            "tags": []
          },
          "execution_count": 11
        }
      ]
    },
    {
      "cell_type": "code",
      "metadata": {
        "id": "W7V0vn0UwaQf"
      },
      "source": [
        "data = data[~bool_series]"
      ],
      "execution_count": null,
      "outputs": []
    },
    {
      "cell_type": "code",
      "metadata": {
        "colab": {
          "base_uri": "https://localhost:8080/",
          "height": 566
        },
        "id": "JZ_0u6BFwaTU",
        "outputId": "5aec802b-42f1-42ec-bd99-06f101938416"
      },
      "source": [
        "data.info()\n",
        "data"
      ],
      "execution_count": null,
      "outputs": [
        {
          "output_type": "stream",
          "text": [
            "<class 'pandas.core.frame.DataFrame'>\n",
            "Int64Index: 9 entries, 8 to 291\n",
            "Data columns (total 8 columns):\n",
            " #   Column             Non-Null Count  Dtype  \n",
            "---  ------             --------------  -----  \n",
            " 0   First Name         9 non-null      object \n",
            " 1   Gender             9 non-null      object \n",
            " 2   Start Date         9 non-null      object \n",
            " 3   Last Login Time    9 non-null      object \n",
            " 4   Salary             9 non-null      int64  \n",
            " 5   Bonus %            9 non-null      float64\n",
            " 6   Senior Management  9 non-null      object \n",
            " 7   Team               9 non-null      object \n",
            "dtypes: float64(1), int64(1), object(6)\n",
            "memory usage: 648.0+ bytes\n"
          ],
          "name": "stdout"
        },
        {
          "output_type": "execute_result",
          "data": {
            "text/html": [
              "<div>\n",
              "<style scoped>\n",
              "    .dataframe tbody tr th:only-of-type {\n",
              "        vertical-align: middle;\n",
              "    }\n",
              "\n",
              "    .dataframe tbody tr th {\n",
              "        vertical-align: top;\n",
              "    }\n",
              "\n",
              "    .dataframe thead th {\n",
              "        text-align: right;\n",
              "    }\n",
              "</style>\n",
              "<table border=\"1\" class=\"dataframe\">\n",
              "  <thead>\n",
              "    <tr style=\"text-align: right;\">\n",
              "      <th></th>\n",
              "      <th>First Name</th>\n",
              "      <th>Gender</th>\n",
              "      <th>Start Date</th>\n",
              "      <th>Last Login Time</th>\n",
              "      <th>Salary</th>\n",
              "      <th>Bonus %</th>\n",
              "      <th>Senior Management</th>\n",
              "      <th>Team</th>\n",
              "    </tr>\n",
              "  </thead>\n",
              "  <tbody>\n",
              "    <tr>\n",
              "      <th>8</th>\n",
              "      <td>Angela</td>\n",
              "      <td>Female</td>\n",
              "      <td>11/22/2005</td>\n",
              "      <td>6:29 AM</td>\n",
              "      <td>95570</td>\n",
              "      <td>18.523</td>\n",
              "      <td>True</td>\n",
              "      <td>Engineering</td>\n",
              "    </tr>\n",
              "    <tr>\n",
              "      <th>688</th>\n",
              "      <td>Brian</td>\n",
              "      <td>Male</td>\n",
              "      <td>4/7/2007</td>\n",
              "      <td>10:47 PM</td>\n",
              "      <td>93901</td>\n",
              "      <td>17.821</td>\n",
              "      <td>True</td>\n",
              "      <td>Legal</td>\n",
              "    </tr>\n",
              "    <tr>\n",
              "      <th>190</th>\n",
              "      <td>Carol</td>\n",
              "      <td>Female</td>\n",
              "      <td>3/19/1996</td>\n",
              "      <td>3:39 AM</td>\n",
              "      <td>57783</td>\n",
              "      <td>9.129</td>\n",
              "      <td>False</td>\n",
              "      <td>Finance</td>\n",
              "    </tr>\n",
              "    <tr>\n",
              "      <th>887</th>\n",
              "      <td>David</td>\n",
              "      <td>Male</td>\n",
              "      <td>12/5/2009</td>\n",
              "      <td>8:48 AM</td>\n",
              "      <td>92242</td>\n",
              "      <td>15.407</td>\n",
              "      <td>False</td>\n",
              "      <td>Legal</td>\n",
              "    </tr>\n",
              "    <tr>\n",
              "      <th>5</th>\n",
              "      <td>Dennis</td>\n",
              "      <td>Male</td>\n",
              "      <td>4/18/1987</td>\n",
              "      <td>1:35 AM</td>\n",
              "      <td>115163</td>\n",
              "      <td>10.125</td>\n",
              "      <td>False</td>\n",
              "      <td>Legal</td>\n",
              "    </tr>\n",
              "    <tr>\n",
              "      <th>495</th>\n",
              "      <td>Eugene</td>\n",
              "      <td>Male</td>\n",
              "      <td>5/24/1984</td>\n",
              "      <td>10:54 AM</td>\n",
              "      <td>81077</td>\n",
              "      <td>2.117</td>\n",
              "      <td>False</td>\n",
              "      <td>Sales</td>\n",
              "    </tr>\n",
              "    <tr>\n",
              "      <th>33</th>\n",
              "      <td>Jean</td>\n",
              "      <td>Female</td>\n",
              "      <td>12/18/1993</td>\n",
              "      <td>9:07 AM</td>\n",
              "      <td>119082</td>\n",
              "      <td>16.180</td>\n",
              "      <td>False</td>\n",
              "      <td>Business Development</td>\n",
              "    </tr>\n",
              "    <tr>\n",
              "      <th>832</th>\n",
              "      <td>Keith</td>\n",
              "      <td>Male</td>\n",
              "      <td>2/12/2003</td>\n",
              "      <td>3:02 PM</td>\n",
              "      <td>120672</td>\n",
              "      <td>19.467</td>\n",
              "      <td>False</td>\n",
              "      <td>Legal</td>\n",
              "    </tr>\n",
              "    <tr>\n",
              "      <th>291</th>\n",
              "      <td>Tammy</td>\n",
              "      <td>Female</td>\n",
              "      <td>11/11/1984</td>\n",
              "      <td>10:30 AM</td>\n",
              "      <td>132839</td>\n",
              "      <td>17.463</td>\n",
              "      <td>True</td>\n",
              "      <td>Client Services</td>\n",
              "    </tr>\n",
              "  </tbody>\n",
              "</table>\n",
              "</div>"
            ],
            "text/plain": [
              "    First Name  Gender  ... Senior Management                  Team\n",
              "8       Angela  Female  ...              True           Engineering\n",
              "688      Brian    Male  ...              True                 Legal\n",
              "190      Carol  Female  ...             False               Finance\n",
              "887      David    Male  ...             False                 Legal\n",
              "5       Dennis    Male  ...             False                 Legal\n",
              "495     Eugene    Male  ...             False                 Sales\n",
              "33        Jean  Female  ...             False  Business Development\n",
              "832      Keith    Male  ...             False                 Legal\n",
              "291      Tammy  Female  ...              True       Client Services\n",
              "\n",
              "[9 rows x 8 columns]"
            ]
          },
          "metadata": {
            "tags": []
          },
          "execution_count": 13
        }
      ]
    },
    {
      "cell_type": "code",
      "metadata": {
        "id": "2H9wga3RwaWP"
      },
      "source": [
        "# Answer to the Question No 3(a)\n",
        "# create DataFrame\n",
        "df = pd.DataFrame(data)"
      ],
      "execution_count": null,
      "outputs": []
    },
    {
      "cell_type": "code",
      "metadata": {
        "colab": {
          "base_uri": "https://localhost:8080/"
        },
        "id": "ha3fOGshRBys",
        "outputId": "d2cf682a-2214-4465-c4f2-9cc640d1a40c"
      },
      "source": [
        "print (df[['First Name', 'Team']])"
      ],
      "execution_count": null,
      "outputs": [
        {
          "output_type": "stream",
          "text": [
            "    First Name                  Team\n",
            "8       Angela           Engineering\n",
            "688      Brian                 Legal\n",
            "190      Carol               Finance\n",
            "887      David                 Legal\n",
            "5       Dennis                 Legal\n",
            "495     Eugene                 Sales\n",
            "33        Jean  Business Development\n",
            "832      Keith                 Legal\n",
            "291      Tammy       Client Services\n"
          ],
          "name": "stdout"
        }
      ]
    },
    {
      "cell_type": "code",
      "metadata": {
        "id": "h8GviTLBRBv6"
      },
      "source": [
        "df_min_max_scaled = df.copy()"
      ],
      "execution_count": null,
      "outputs": []
    },
    {
      "cell_type": "code",
      "metadata": {
        "id": "nwrYlhiIRBrj"
      },
      "source": [
        "for column in df_min_max_scaled.columns:\n",
        "    df_min_max_scaled[column] = (df_min_max_scaled[column] - df_min_max_scaled[column].min()) / (df_min_max_scaled[column].max() - df_min_max_scaled[column].min())"
      ],
      "execution_count": null,
      "outputs": []
    },
    {
      "cell_type": "code",
      "metadata": {
        "id": "jWW9hS48wabq"
      },
      "source": [],
      "execution_count": null,
      "outputs": []
    },
    {
      "cell_type": "code",
      "metadata": {
        "id": "MPKq8paHwael"
      },
      "source": [],
      "execution_count": null,
      "outputs": []
    },
    {
      "cell_type": "code",
      "metadata": {
        "id": "S-qnBsgtwaha"
      },
      "source": [],
      "execution_count": null,
      "outputs": []
    },
    {
      "cell_type": "code",
      "metadata": {
        "id": "4NiHwdR8wakA"
      },
      "source": [],
      "execution_count": null,
      "outputs": []
    },
    {
      "cell_type": "code",
      "metadata": {
        "id": "zsDQNIagwam4"
      },
      "source": [],
      "execution_count": null,
      "outputs": []
    },
    {
      "cell_type": "code",
      "metadata": {
        "id": "CMG3gZV2waqM"
      },
      "source": [],
      "execution_count": null,
      "outputs": []
    },
    {
      "cell_type": "code",
      "metadata": {
        "id": "RkX3QTEvwas1"
      },
      "source": [],
      "execution_count": null,
      "outputs": []
    },
    {
      "cell_type": "code",
      "metadata": {
        "id": "jRZ1ovGewavk"
      },
      "source": [],
      "execution_count": null,
      "outputs": []
    },
    {
      "cell_type": "code",
      "metadata": {
        "id": "NpnGRS89wayn"
      },
      "source": [],
      "execution_count": null,
      "outputs": []
    },
    {
      "cell_type": "code",
      "metadata": {
        "id": "FIsq-LFPwa1M"
      },
      "source": [],
      "execution_count": null,
      "outputs": []
    },
    {
      "cell_type": "code",
      "metadata": {
        "id": "u0kyU1MEwa4M"
      },
      "source": [],
      "execution_count": null,
      "outputs": []
    },
    {
      "cell_type": "code",
      "metadata": {
        "id": "2RfHjUKYwa7B"
      },
      "source": [],
      "execution_count": null,
      "outputs": []
    },
    {
      "cell_type": "code",
      "metadata": {
        "id": "qpkqF5CHwa9x"
      },
      "source": [],
      "execution_count": null,
      "outputs": []
    },
    {
      "cell_type": "code",
      "metadata": {
        "id": "cybAfx-mwbAs"
      },
      "source": [],
      "execution_count": null,
      "outputs": []
    },
    {
      "cell_type": "code",
      "metadata": {
        "id": "VrWCCUj0wbDf"
      },
      "source": [],
      "execution_count": null,
      "outputs": []
    },
    {
      "cell_type": "code",
      "metadata": {
        "id": "vohAzYtpwbGN"
      },
      "source": [],
      "execution_count": null,
      "outputs": []
    },
    {
      "cell_type": "code",
      "metadata": {
        "id": "22cZh_Y5wbJE"
      },
      "source": [],
      "execution_count": null,
      "outputs": []
    },
    {
      "cell_type": "code",
      "metadata": {
        "id": "4g3Mwd5EwbL_"
      },
      "source": [],
      "execution_count": null,
      "outputs": []
    },
    {
      "cell_type": "code",
      "metadata": {
        "id": "IpfH9boawbOs",
        "colab": {
          "base_uri": "https://localhost:8080/"
        },
        "outputId": "17bf1f66-f172-4ffd-9e70-4b596c251df0"
      },
      "source": [
        "# Load the dataset\n",
        "df = load_boston()\n",
        "\n",
        "# Create the dataframe\n",
        "column_name = df.feature_names\n",
        "df_boston = pd.DataFrame(df.data)\n",
        "df_boston.columns = column_name\n",
        "df_boston.head()\n",
        "\n",
        "Q1 = np.percentile(df_boston['DIS'], 25,\n",
        "                   interpolation = 'midpoint')\n",
        "\n",
        "Q3 = np.percentile(df_boston['DIS'], 75,\n",
        "                   interpolation = 'midpoint')\n",
        "IQR = Q3 - Q1\n",
        "\n",
        "print(\"Old Shape: \", df_boston.shape)\n",
        "\n",
        "upper = np.where(df_boston['DIS'] >= (Q3+1.5*IQR))\n",
        "lower = np.where(df_boston['DIS'] <= (Q1-1.5*IQR))\n",
        "\n",
        "# Removing the Outliers\n",
        "df_boston.drop(upper[0], inplace = True)\n",
        "df_boston.drop(lower[0], inplace = True)\n",
        "\n",
        "print(\"New Shape: \", df_boston.shape)"
      ],
      "execution_count": null,
      "outputs": [
        {
          "output_type": "stream",
          "text": [
            "Old Shape:  (506, 13)\n",
            "New Shape:  (501, 13)\n"
          ],
          "name": "stdout"
        }
      ]
    },
    {
      "cell_type": "code",
      "metadata": {
        "id": "M2Cy4K8xwbR0"
      },
      "source": [],
      "execution_count": null,
      "outputs": []
    },
    {
      "cell_type": "code",
      "metadata": {
        "id": "A-DV31jxwbVA"
      },
      "source": [],
      "execution_count": null,
      "outputs": []
    },
    {
      "cell_type": "code",
      "metadata": {
        "id": "ogdSGJpQwbYL"
      },
      "source": [],
      "execution_count": null,
      "outputs": []
    },
    {
      "cell_type": "code",
      "metadata": {
        "id": "lN19iSAswba6"
      },
      "source": [],
      "execution_count": null,
      "outputs": []
    },
    {
      "cell_type": "code",
      "metadata": {
        "id": "wb5GvJnPwbeA"
      },
      "source": [],
      "execution_count": null,
      "outputs": []
    },
    {
      "cell_type": "code",
      "metadata": {
        "id": "I7hNav9Jwbgn"
      },
      "source": [],
      "execution_count": null,
      "outputs": []
    }
  ]
}